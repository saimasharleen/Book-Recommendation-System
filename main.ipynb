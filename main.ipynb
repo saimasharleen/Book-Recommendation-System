{
  "nbformat": 4,
  "nbformat_minor": 0,
  "metadata": {
    "colab": {
      "provenance": [],
      "machine_shape": "hm",
      "authorship_tag": "ABX9TyPJos2KjxE5CB62Hlpc7Vm+",
      "include_colab_link": true
    },
    "kernelspec": {
      "name": "python3",
      "display_name": "Python 3"
    },
    "language_info": {
      "name": "python"
    },
    "gpuClass": "standard"
  },
  "cells": [
    {
      "cell_type": "markdown",
      "metadata": {
        "id": "view-in-github",
        "colab_type": "text"
      },
      "source": [
        "<a href=\"https://colab.research.google.com/github/saimasharleen/Book-Recommendation-System/blob/main/main.ipynb\" target=\"_parent\"><img src=\"https://colab.research.google.com/assets/colab-badge.svg\" alt=\"Open In Colab\"/></a>"
      ]
    },
    {
      "cell_type": "code",
      "source": [
        "import csv\n",
        "import numpy as np"
      ],
      "metadata": {
        "id": "N-uYsX1AHLGs"
      },
      "execution_count": 1,
      "outputs": []
    },
    {
      "cell_type": "code",
      "source": [
        "# Create list of query ids\n",
        "query_ids = [\"q1\", \"q4\", \"q625\", \"q81671\"]"
      ],
      "metadata": {
        "id": "665mlwglHaX4"
      },
      "execution_count": 2,
      "outputs": []
    },
    {
      "cell_type": "code",
      "source": [
        "# Create utility matrix with 80k rows and len(query_ids) columns\n",
        "utility_matrix = np.random.randint(1, 101, (40000, len(query_ids))).astype(float)"
      ],
      "metadata": {
        "id": "1FCm7HQBHepD"
      },
      "execution_count": 3,
      "outputs": []
    },
    {
      "cell_type": "code",
      "source": [
        "# Introduce missing values in some queries\n",
        "idx = np.random.choice(utility_matrix.size, int(utility_matrix.size * 0.2), replace=False)\n",
        "utility_matrix.flat[idx] = np.nan"
      ],
      "metadata": {
        "id": "Bbchw7sqHiG7"
      },
      "execution_count": 4,
      "outputs": []
    },
    {
      "cell_type": "code",
      "source": [
        "# Save utility matrix to CSV file\n",
        "with open(\"utility_matrix.csv\", \"w\", newline=\"\") as f:\n",
        "    writer = csv.writer(f)\n",
        "    # Write query ids as first row\n",
        "    writer.writerow(query_ids)\n",
        "    for i, row in enumerate(utility_matrix):\n",
        "        # Write userId as first column\n",
        "        writer.writerow([\"user{}\".format(i)] + row.tolist())"
      ],
      "metadata": {
        "id": "tKxtzwrfHlgV"
      },
      "execution_count": 5,
      "outputs": []
    },
    {
      "cell_type": "code",
      "source": [
        "# Read utility matrix from CSV file\n",
        "with open(\"utility_matrix.csv\", \"r\") as f:\n",
        "    reader = csv.reader(f)\n",
        "    query_ids = next(reader)\n",
        "    utility_matrix = np.array([row[1:] for row in reader], dtype=float)\n",
        "#To fill in the missing values, we can use the Collaborative Filtering method.\n",
        "# One popular method is matrix factorization.\n",
        "# Here is an example of how to use the fancyimpute library to fill in the missing values\n",
        "# in the utility matrix using matrix factorization:"
      ],
      "metadata": {
        "id": "loQsCYeUHpjf"
      },
      "execution_count": 6,
      "outputs": []
    },
    {
      "cell_type": "code",
      "source": [
        "! pip install fancyimpute"
      ],
      "metadata": {
        "colab": {
          "base_uri": "https://localhost:8080/"
        },
        "id": "uXE6d88WHs1l",
        "outputId": "5ce2252a-4682-46bb-ef8a-f858070a5dbe"
      },
      "execution_count": 7,
      "outputs": [
        {
          "output_type": "stream",
          "name": "stdout",
          "text": [
            "Looking in indexes: https://pypi.org/simple, https://us-python.pkg.dev/colab-wheels/public/simple/\n",
            "Requirement already satisfied: fancyimpute in /usr/local/lib/python3.8/dist-packages (0.7.0)\n",
            "Requirement already satisfied: cvxpy in /usr/local/lib/python3.8/dist-packages (from fancyimpute) (1.2.3)\n",
            "Requirement already satisfied: scikit-learn>=0.24.2 in /usr/local/lib/python3.8/dist-packages (from fancyimpute) (1.0.2)\n",
            "Requirement already satisfied: cvxopt in /usr/local/lib/python3.8/dist-packages (from fancyimpute) (1.3.0)\n",
            "Requirement already satisfied: knnimpute>=0.1.0 in /usr/local/lib/python3.8/dist-packages (from fancyimpute) (0.1.0)\n",
            "Requirement already satisfied: pytest in /usr/local/lib/python3.8/dist-packages (from fancyimpute) (3.6.4)\n",
            "Requirement already satisfied: nose in /usr/local/lib/python3.8/dist-packages (from fancyimpute) (1.3.7)\n",
            "Requirement already satisfied: six in /usr/local/lib/python3.8/dist-packages (from knnimpute>=0.1.0->fancyimpute) (1.15.0)\n",
            "Requirement already satisfied: numpy>=1.10 in /usr/local/lib/python3.8/dist-packages (from knnimpute>=0.1.0->fancyimpute) (1.21.6)\n",
            "Requirement already satisfied: threadpoolctl>=2.0.0 in /usr/local/lib/python3.8/dist-packages (from scikit-learn>=0.24.2->fancyimpute) (3.1.0)\n",
            "Requirement already satisfied: joblib>=0.11 in /usr/local/lib/python3.8/dist-packages (from scikit-learn>=0.24.2->fancyimpute) (1.2.0)\n",
            "Requirement already satisfied: scipy>=1.1.0 in /usr/local/lib/python3.8/dist-packages (from scikit-learn>=0.24.2->fancyimpute) (1.7.3)\n",
            "Requirement already satisfied: scs>=1.1.6 in /usr/local/lib/python3.8/dist-packages (from cvxpy->fancyimpute) (3.2.2)\n",
            "Requirement already satisfied: osqp>=0.4.1 in /usr/local/lib/python3.8/dist-packages (from cvxpy->fancyimpute) (0.6.2.post0)\n",
            "Requirement already satisfied: ecos>=2 in /usr/local/lib/python3.8/dist-packages (from cvxpy->fancyimpute) (2.0.12)\n",
            "Requirement already satisfied: setuptools<=64.0.2 in /usr/local/lib/python3.8/dist-packages (from cvxpy->fancyimpute) (57.4.0)\n",
            "Requirement already satisfied: atomicwrites>=1.0 in /usr/local/lib/python3.8/dist-packages (from pytest->fancyimpute) (1.4.1)\n",
            "Requirement already satisfied: attrs>=17.4.0 in /usr/local/lib/python3.8/dist-packages (from pytest->fancyimpute) (22.2.0)\n",
            "Requirement already satisfied: py>=1.5.0 in /usr/local/lib/python3.8/dist-packages (from pytest->fancyimpute) (1.11.0)\n",
            "Requirement already satisfied: more-itertools>=4.0.0 in /usr/local/lib/python3.8/dist-packages (from pytest->fancyimpute) (9.0.0)\n",
            "Requirement already satisfied: pluggy<0.8,>=0.5 in /usr/local/lib/python3.8/dist-packages (from pytest->fancyimpute) (0.7.1)\n",
            "Requirement already satisfied: qdldl in /usr/local/lib/python3.8/dist-packages (from osqp>=0.4.1->cvxpy->fancyimpute) (0.1.5.post2)\n"
          ]
        }
      ]
    },
    {
      "cell_type": "code",
      "source": [
        "from fancyimpute import KNN"
      ],
      "metadata": {
        "id": "yik0XbiPHyLd"
      },
      "execution_count": 8,
      "outputs": []
    },
    {
      "cell_type": "code",
      "source": [
        "# Read utility matrix from CSV file\n",
        "with open(\"utility_matrix.csv\", \"r\") as f:\n",
        "    reader = csv.reader(f)\n",
        "    query_ids = next(reader)\n",
        "    utility_matrix = np.array([row[1:] for row in reader], dtype=float)"
      ],
      "metadata": {
        "id": "n62p7IFxH6_Z"
      },
      "execution_count": 9,
      "outputs": []
    },
    {
      "cell_type": "code",
      "source": [
        "# Fill in missing values using KNN\n",
        "knn_imputer = KNN(k=10)\n",
        "filled_matrix = knn_imputer.fit_transform(utility_matrix)"
      ],
      "metadata": {
        "id": "vUL37GZHH-BJ"
      },
      "execution_count": null,
      "outputs": []
    }
  ]
}